#-----前処理-----#
!pip install japanize_matplotlib

import pandas as pd

# CSVファイルの読み込み（エンコーディング指定）
file_path = '/content/movies_info_Excel処理後.csv'  # ファイルのパスを適切に指定
df = pd.read_csv(file_path, encoding='cp932')  # または他の適切なエンコーディングを指定

# '上映時間'列から「分」を削除
df['上映時間'] = df['上映時間'].str.replace('分', '')

# 新しいCSVファイルに保存
output_file_path = './movies_info_処理後.csv'  # 出力ファイルのパスを適切に指定
df.to_csv(output_file_path, index=False)

print("上映時間から「分」を削除しました。")

#-----全データ対象-----#

#データ項目数#
import pandas as pd

# CSVファイルの読み込み（エンコーディング指定）
file_path = '/content/movies_info_処理後.csv'  # ファイルのパスを適切に指定
df = pd.read_csv(file_path, encoding='utf-8')  # または他の適切なエンコーディングを指定

# データフレームの行数を取得
num_rows = df.shape[0]

print(f'CSVファイルのデータ行数（レコード数）: {num_rows}')

#評価の分布グラフ#
import pandas as pd
import matplotlib.pyplot as plt
from matplotlib import rcParams
import japanize_matplotlib

#CSVファイルの読み込み
file_path = '/content/movies_info_処理後.csv'
df = pd.read_csv(file_path, encoding='utf-8')

#rcParamsで日本語フォントを設定
rcParams['font.family'] = 'sans-serif'
rcParams['font.sans-serif'] = ['Hiragino Maru Gothic Pro', 'Yu Gothic', 'Meirio', 'Takao', 'IPAexGothic', 'IPAPGothic', 'VL PGothic', 'Noto Sans CJK JP']

# '評価'列のヒストグラムを描画
plt.hist(df['評価'], bins=10, edgecolor='black')

#平均値を描画
mean_value = df['評価'].mean()
plt.axvline(mean_value, color='red', linestyle='dashed', linewidth=2, label=f'平均値: {mean_value:.2f}')

#中央値を描画
median_value = df['評価'].median()
plt.axvline(median_value, color='green', linestyle='dashed', linewidth=2, label=f'中央値: {median_value}')

plt.xlabel('評価点')
plt.ylabel('作品数')
plt.title('評価の分布')
plt.legend()
plt.show()

#視聴者の平均、中央値、最頻値、分布グラフ#
import pandas as pd
import matplotlib.pyplot as plt
from matplotlib import rcParams

# CSVファイルの読み込み（エンコーディング指定）
file_path = '/content/movies_info_処理後.csv'  # ファイルのパスを適切に指定
df = pd.read_csv(file_path, encoding='utf-8')  # または他の適切なエンコーディングを指定

# '視聴者'列の平均値と中央値を計算
average_viewer = df['視聴者'].mean()
median_viewer = df['視聴者'].median()

# 最頻値（モード）を計算
mode_viewer = df['視聴者'].mode()

# rcParamsで日本語フォントを設定
rcParams['font.family'] = 'sans-serif'
rcParams['font.sans-serif'] = ['Hiragino Maru Gothic Pro', 'Yu Gothic', 'Meirio', 'Takao', 'IPAexGothic', 'IPAPGothic', 'VL PGothic', 'Noto Sans CJK JP']

# 分布の可視化（ヒストグラム）
plt.figure(figsize=(10, 6))
plt.hist(df['視聴者'], bins=600, edgecolor='black')  # ビン数を増やすことで細かい分布が見えるようになります
plt.title('視聴者の分布(一部)')
plt.xlabel('視聴者数')
plt.ylabel('作品数')

plt.xlim(0, 4000)
plt.ylim(0, 2000)

# 平均値、中央値、最頻値をグラフに追加
plt.axvline(average_viewer, color='red', linestyle='dashed', linewidth=2, label=f'平均値: {average_viewer:.2f}')
plt.axvline(median_viewer, color='green', linestyle='dashed', linewidth=2, label=f'中央値: {median_viewer}')

plt.legend()
plt.show()
