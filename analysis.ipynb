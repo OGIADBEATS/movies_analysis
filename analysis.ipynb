#-----前処理-----#
!pip install japanize_matplotlib

import pandas as pd

# CSVファイルの読み込み（エンコーディング指定）
file_path = '/content/movies_info_Excel処理後.csv'  # ファイルのパスを適切に指定
df = pd.read_csv(file_path, encoding='cp932')  # または他の適切なエンコーディングを指定

# '上映時間'列から「分」を削除
df['上映時間'] = df['上映時間'].str.replace('分', '')

# 新しいCSVファイルに保存
output_file_path = './movies_info_処理後.csv'  # 出力ファイルのパスを適切に指定
df.to_csv(output_file_path, index=False)

print("上映時間から「分」を削除しました。")

#-----全データ対象-----#

#データ項目数#
import pandas as pd

# CSVファイルの読み込み（エンコーディング指定）
file_path = '/content/movies_info_処理後.csv'  # ファイルのパスを適切に指定
df = pd.read_csv(file_path, encoding='utf-8')  # または他の適切なエンコーディングを指定

# データフレームの行数を取得
num_rows = df.shape[0]

print(f'CSVファイルのデータ行数（レコード数）: {num_rows}')
