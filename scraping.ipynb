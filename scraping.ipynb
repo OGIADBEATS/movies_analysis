from google.colab import drive
drive.mount('/content/drive')

import os
import csv
from bs4 import BeautifulSoup
import json

#base_path = './movies_html'
base_path = '/content/drive/MyDrive/movies_html'
csv_path = './movies_info.csv'

#htmlを読み込む
def read_html(page_count):
    file_path = base_path + '/output_page_{}.html'.format(page_count)
    with open(file_path, 'r', encoding='utf-8') as f:
        html_file = f.read()
    return html_file

#htmlをスクレイピング
def scraping(html_file):
    soup = BeautifulSoup(html_file, 'html.parser')
    reviews = soup.find_all('div', class_='js-movie-cassette')

    #リスト作成
    movies_info = []

    for review in reviews:
        #title(タイトル)の取得
        title_element = review.find('h3', class_='p-content-cassette__title')
        title = title_element.get_text(strip=True) if title_element else None

        #初期化
        country = None
        time = None
        director = None
        screenwriter = None
        actor = None

        #p-content-cassette__other-info__titleに含まれるデータを取得
        other_info_elements = review.find_all('h4', class_='p-content-cassette__other-info__title')

        for other_info_element in other_info_elements:
            #country(国)の取得
            if other_info_element.get_text(strip=True) == '製作国：':
                country_element = other_info_element.find_next('a')
                if country_element:
                    country = country_element.get_text(strip=True)

            #time(上映時間)の取得
            elif other_info_element.get_text(strip=True) == '上映時間：':
                time_element = other_info_element.find_next('span')
                if time_element:
                    time = time_element.get_text(strip=True)

        #genre(ジャンル)の取得
        genre_element = review.find('ul', class_='genres')
        genre = genre_element.get_text(strip=True) if genre_element else None

        #distribution(配給会社)の取得
        distribution_element = review.find('ul', class_='distributors')
        distribution = distribution_element.get_text(strip=True) if distribution_element else None

        #rating(評価点)の取得
        rating_element = review.find('div', class_='c-rating__score')
        rating = rating_element.get_text(strip=True) if rating_element else None

        #viewers(視聴者数)の取得
        viewers_main = review.get('data-mark')
        viewers_element = json.loads(viewers_main) if viewers_main else None #JSON形式なのでJSONとして解析
        viewers = viewers_element.get('count') if viewers_element else None #countの値(視聴者数)を取得

        #expected viewers(視聴予定者数)の取得
        expected_viewers_main = review.get('data-clip')
        expected_viewers_element = json.loads(expected_viewers_main) if expected_viewers_main else None #JSON形式なのでJSONとして解析
        expected_viewers = expected_viewers_element.get('count') if expected_viewers_element else None #countの値(視聴予定者数)を取得

        #p-content-cassette__peopleに含まれるデータを取得
        other_people_elements = review.find_all('h4', class_='p-content-cassette__people-list-term')

        for other_people_element in other_people_elements:
            #director(監督)の取得
            if other_people_element and other_people_element.get_text(strip=True) == '監督':
                director_element = other_people_element.find_next('a')
                if director_element:
                    director = director_element.get_text(strip=True)

            #screenwriter(脚本家)の取得
            elif other_people_element and other_people_element.get_text(strip=True) == '脚本':
                screenwriter_element = other_people_element.find_next('a')
                if screenwriter_element:
                    screenwriter = screenwriter_element.get_text(strip=True)

            #actor(主演)の取得
            elif other_people_element and other_people_element.get_text(strip=True) == '出演者':
                actor_element = other_people_element.find_next('a')
                if actor_element:
                    actor = actor_element.get_text(strip=True)


        #performerの取得

        # 取得した各項目をリストに追加
        movie_info = {'Title': title,
                      'Country' : country,
                      'Time' : time,
                      'Genre' : genre,
                      'Distribution' : distribution,
                      'Rating' : rating,
                      'Viewers' : viewers,
                      'Expected Viewers' : expected_viewers,
                      'Director' : director,
                      'Screenwriter' : screenwriter,
                      'Actor' : actor}
        movies_info.append(movie_info)

    return movies_info

#csvへ書き出し
def write_to_csv(movies_info, page_count):
    #ヘッダー情報
    header = ['Title',
              'Country',
              'Time',
              'Genre',
              'Distribution',
              'Rating',
              'Viewers',
              'Expected Viewers',
              'Director',
              'Screenwriter',
              'Actor']

    if not os.path.exists(csv_path):
        with open(csv_path, 'w', encoding='shift_jis') as csv_file:
            writer = csv.writer(csv_file)
            writer.writerow(header)

    with open(csv_path, 'a', encoding='shift_jis', errors='replace') as fw:
        writer = csv.DictWriter(fw, fieldnames=header)
        writer.writerows(movies_info)

    print('Writing of page{} to csv is completed.'.format(page_count))
    return

#main関数
def main():
    file_count = len(os.listdir(base_path))
    for page_count in range(1, file_count+1):
        html_file = read_html(page_count)
        movies_info = scraping(html_file)
        write_to_csv(movies_info, page_count)

    print('Scraping Completed.')
    return

if __name__ == '__main__':
    main()
